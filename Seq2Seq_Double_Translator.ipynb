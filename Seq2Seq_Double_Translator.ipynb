{
  "cells": [
    {
      "cell_type": "code",
      "execution_count": null,
      "metadata": {
        "id": "JnBBpiayq8pT"
      },
      "outputs": [],
      "source": [
        "from google.colab import files\n",
        "import numpy as np\n",
        "import matplotlib.pyplot as plt\n",
        "\n",
        "from tensorflow.keras.models import Model\n",
        "\n",
        "from tensorflow.keras.layers import Dense, Embedding, LSTM, Input,SpatialDropout1D\n",
        "from tensorflow.keras.optimizers import RMSprop, Adadelta\n",
        "\n",
        "from tensorflow.keras.preprocessing.sequence import pad_sequences\n",
        "from tensorflow.keras.preprocessing.text import Tokenizer\n",
        "\n",
        "from tensorflow.keras import utils\n",
        "from tensorflow.keras.utils import plot_model\n",
        "\n",
        "import yaml"
      ]
    },
    {
      "cell_type": "code",
      "execution_count": null,
      "metadata": {
        "colab": {
          "base_uri": "https://localhost:8080/"
        },
        "id": "OuC4BWgWgOX8",
        "outputId": "e93e0379-6b54-4cf3-fa14-9f5fa42c9cad"
      },
      "outputs": [
        {
          "output_type": "stream",
          "name": "stdout",
          "text": [
            "Mounted at /content/drive\n"
          ]
        }
      ],
      "source": [
        "from google.colab import drive  #connect the Google drive\n",
        "drive.mount('/content/drive')"
      ]
    },
    {
      "cell_type": "markdown",
      "source": [
        "#Data loading and processing"
      ],
      "metadata": {
        "id": "icydaeUxjQ5u"
      }
    },
    {
      "cell_type": "code",
      "execution_count": null,
      "metadata": {
        "colab": {
          "base_uri": "https://localhost:8080/"
        },
        "id": "RlWQSTWur6h3",
        "outputId": "af53191a-1fc0-44a0-e3f0-4f2604a82181"
      },
      "outputs": [
        {
          "output_type": "stream",
          "name": "stdout",
          "text": [
            "--2022-03-15 13:44:45--  http://www.manythings.org/anki/rus-eng.zip\n",
            "Resolving www.manythings.org (www.manythings.org)... 172.67.186.54, 104.21.92.44, 2606:4700:3033::ac43:ba36, ...\n",
            "Connecting to www.manythings.org (www.manythings.org)|172.67.186.54|:80... connected.\n",
            "HTTP request sent, awaiting response... 200 OK\n",
            "Length: 14683939 (14M) [application/zip]\n",
            "Saving to: ‘rus-eng.zip’\n",
            "\n",
            "rus-eng.zip         100%[===================>]  14.00M  48.6MB/s    in 0.3s    \n",
            "\n",
            "2022-03-15 13:44:45 (48.6 MB/s) - ‘rus-eng.zip’ saved [14683939/14683939]\n",
            "\n"
          ]
        }
      ],
      "source": [
        "!wget http://www.manythings.org/anki/rus-eng.zip  #скачиваем dataset"
      ]
    },
    {
      "cell_type": "code",
      "execution_count": null,
      "metadata": {
        "colab": {
          "base_uri": "https://localhost:8080/"
        },
        "id": "8vYnT5s_sAZw",
        "outputId": "23e0293f-5045-41ef-da0f-6ff7fe2ab0ed"
      },
      "outputs": [
        {
          "output_type": "stream",
          "name": "stdout",
          "text": [
            "drive  rus-eng.zip  sample_data\n"
          ]
        }
      ],
      "source": [
        "!ls  #проверям список файлов"
      ]
    },
    {
      "cell_type": "code",
      "execution_count": null,
      "metadata": {
        "colab": {
          "base_uri": "https://localhost:8080/"
        },
        "id": "j26-tpHysJhG",
        "outputId": "f8a42179-f339-4f26-b151-13c4b3d59591"
      },
      "outputs": [
        {
          "output_type": "stream",
          "name": "stdout",
          "text": [
            "Archive:  rus-eng.zip\n",
            "  inflating: rus.txt                 \n",
            "  inflating: _about.txt              \n"
          ]
        }
      ],
      "source": [
        "!unzip -o rus-eng.zip #распаковка архива"
      ]
    },
    {
      "cell_type": "code",
      "execution_count": null,
      "metadata": {
        "id": "XHrmsoqxsZe-"
      },
      "outputs": [],
      "source": [
        "\n",
        "with open('rus.txt', 'r', encoding='utf-8') as f:\n",
        "  lines=f.read().split('\\n') #разибваем файл на строки"
      ]
    },
    {
      "cell_type": "code",
      "execution_count": null,
      "metadata": {
        "colab": {
          "base_uri": "https://localhost:8080/"
        },
        "id": "Ml3non8us7RQ",
        "outputId": "6aa5c4fc-a3da-4f81-de6b-f94e5bff392d"
      },
      "outputs": [
        {
          "output_type": "execute_result",
          "data": {
            "text/plain": [
              "440220"
            ]
          },
          "metadata": {},
          "execution_count": 7
        }
      ],
      "source": [
        "len(lines)"
      ]
    },
    {
      "cell_type": "code",
      "execution_count": null,
      "metadata": {
        "colab": {
          "base_uri": "https://localhost:8080/",
          "height": 35
        },
        "id": "y5rq9hHbtLgw",
        "outputId": "3af69a10-f453-4efd-d9e4-d0b5ef631928"
      },
      "outputs": [
        {
          "output_type": "execute_result",
          "data": {
            "text/plain": [
              "'Go.\\tМарш!\\tCC-BY 2.0 (France) Attribution: tatoeba.org #2877272 (CM) & #1159202 (shanghainese)'"
            ],
            "application/vnd.google.colaboratory.intrinsic+json": {
              "type": "string"
            }
          },
          "metadata": {},
          "execution_count": 8
        }
      ],
      "source": [
        "lines[0]"
      ]
    },
    {
      "cell_type": "code",
      "execution_count": null,
      "metadata": {
        "id": "ht6fSl1StFXz"
      },
      "outputs": [],
      "source": [
        "def extract_texts(begin_index=0, qty=50000):\n",
        "  conversations=[]\n",
        "  \n",
        "  lenLines=len(lines)\n",
        "  #if begin_index is beyond of lines number\n",
        "  if begin_index>=lenLines:\n",
        "    return None\n",
        "  #calculation of end_index\n",
        "  end_index=begin_index+qty\n",
        "  if end_index >= lenLines:\n",
        "    end_index = lenLines         #if end_index is beyond of lines number\n",
        "\n",
        "  for i in range(begin_index,end_index):\n",
        "    try:\n",
        "      eng_text, rus_text,_ = lines[i].split('\\t') #разделяем линии на русские и англ сообщения\n",
        "      conversations.append([eng_text,rus_text])\n",
        "    except:\n",
        "      continue\n",
        "\n",
        "  return conversations "
      ]
    },
    {
      "cell_type": "code",
      "execution_count": null,
      "metadata": {
        "id": "T1HXOw2-hjCP"
      },
      "outputs": [],
      "source": [
        "conversations=extract_texts(qty=100000)"
      ]
    },
    {
      "cell_type": "code",
      "execution_count": null,
      "metadata": {
        "colab": {
          "base_uri": "https://localhost:8080/"
        },
        "id": "KGc4dwsbhqHO",
        "outputId": "ec6e1dcd-f2de-4981-fc79-0422abeb154b"
      },
      "outputs": [
        {
          "output_type": "execute_result",
          "data": {
            "text/plain": [
              "100000"
            ]
          },
          "metadata": {},
          "execution_count": 11
        }
      ],
      "source": [
        "len(conversations)"
      ]
    },
    {
      "cell_type": "code",
      "execution_count": null,
      "metadata": {
        "id": "DU_7YmVKtlO9"
      },
      "outputs": [],
      "source": [
        "#функция для удаления пробелов перед знаками препинания\n",
        "def replacer(inputs):\n",
        "  \n",
        "  if isinstance(inputs,str):\n",
        "      return inputs.replace(' .','.').replace(' ,',',').replace(' !','!').replace(' ?','?')\n",
        "\n",
        "  if isinstance(inputs, list):\n",
        "    outputs=[]\n",
        "\n",
        "    for line in inputs:\n",
        "      outputs.append(line.replace(' .','.').replace(' ,',',').replace(' !','!').replace(' ?','?'))\n",
        "\n",
        "    return outputs"
      ]
    },
    {
      "cell_type": "code",
      "execution_count": null,
      "metadata": {
        "id": "keS4Fz5uuxy4"
      },
      "outputs": [],
      "source": [
        "#списки для переводчика eng-rus\n",
        "eng_questions=[] \n",
        "rus_answers=[]\n",
        "\n",
        "#списки для переводчика rus-eng\n",
        "rus_questions=[] \n",
        "eng_answers=[]\n",
        "\n",
        "for con in conversations:\n",
        "  if len(con)>1:\n",
        "    eng=replacer(con[0]) #чистим англю предложения\n",
        "    eng_questions.append(eng)\n",
        "    eng_answers.append(eng)\n",
        "\n",
        "    rus=replacer(con[1:]) #чистим русские предложения\n",
        "    rus=' '.join(rus)\n",
        "    rus_questions.append(rus)\n",
        "    rus_answers.append(rus)\n",
        "\n",
        "  else:\n",
        "    continue\n",
        "\n",
        "#добавляем тэги к ответам  \n",
        "eng_answers=['<START> ' + answ + ' <END>' for answ in eng_answers]  \n",
        "rus_answers=['<START> ' + answ + ' <END>' for answ in rus_answers]\n"
      ]
    },
    {
      "cell_type": "code",
      "execution_count": null,
      "metadata": {
        "colab": {
          "base_uri": "https://localhost:8080/"
        },
        "id": "dCtFRnJzxk-B",
        "outputId": "6d8464b8-33f7-4072-bf8c-8490625ccbb8"
      },
      "outputs": [
        {
          "output_type": "stream",
          "name": "stdout",
          "text": [
            "Фрагмент словаря : [('start', 1), ('end', 2), ('я', 3), ('i', 4), ('tom', 5), ('не', 6), ('том', 7), ('you', 8), ('это', 9), ('is', 10), ('a', 11), ('ты', 12), ('to', 13), ('the', 14), ('вы', 15), (\"i'm\", 16), ('мне', 17), ('мы', 18), ('do', 19), ('it', 20), ('was', 21), ('у', 22), ('we', 23), ('в', 24), ('что', 25), (\"don't\", 26), ('он', 27), ('my', 28), ('are', 29), ('your', 30)]\n",
            "Размер словаря : 41881\n"
          ]
        }
      ],
      "source": [
        "#Создадим токенайзер\n",
        "tokenizer=Tokenizer(filters='\"#$%&()*+-/;<=>@[\\\\]^_`{|}~\\t\\n',split=' ')\n",
        "\n",
        "#обучение токенайзера\n",
        "tokenizer.fit_on_texts(eng_questions+rus_answers)\n",
        "\n",
        "vocabularyItems=list(tokenizer.word_index.items())\n",
        "vocabularySize=len(vocabularyItems)+1\n",
        "\n",
        "print('Фрагмент словаря : {}'.format(vocabularyItems[:30]))\n",
        "print('Размер словаря : {}'.format(vocabularySize))"
      ]
    },
    {
      "cell_type": "code",
      "execution_count": null,
      "metadata": {
        "id": "kcKEbGVIVrJh"
      },
      "outputs": [],
      "source": [
        "#Fuction makes tokens sequence from phrase\n",
        "def strToTokens(sentence, maxLen):\n",
        "  #clear extra spaces\n",
        "  tmp_sent=replacer(sentence)\n",
        "\n",
        "  #convert the sentece to lower case and divide to words\n",
        "  words=tmp_sent.lower().split()\n",
        "\n",
        "  #list for tokens\n",
        "  tokensList=list()\n",
        "\n",
        "  for word in words:\n",
        "\n",
        "    try:\n",
        "      tokensList.append(tokenizer.word_index[word]) #try to get a token for a word\n",
        "    \n",
        "    except:\n",
        "      pass  #or just ignore that word\n",
        "\n",
        "  #if length >0\n",
        "  if tokensList:\n",
        "      return pad_sequences([tokensList],maxlen=maxLen, padding='post') #return a padded sequence\n",
        "  \n",
        "  # or return None \n",
        "  return None"
      ]
    },
    {
      "cell_type": "markdown",
      "metadata": {
        "id": "6RMisap9Jqxj"
      },
      "source": [
        "#Preparing ENG-RUS data"
      ]
    },
    {
      "cell_type": "code",
      "execution_count": null,
      "metadata": {
        "colab": {
          "base_uri": "https://localhost:8080/"
        },
        "id": "2O_rD8z0Jpd5",
        "outputId": "043c738b-5269-44c6-fdb3-322ec69ced53"
      },
      "outputs": [
        {
          "output_type": "stream",
          "name": "stdout",
          "text": [
            "Input phrase example               : Head east. \n",
            "Input coded phrase example         : [1982 7518    0    0    0    0    0] \n",
            "Shape of coded input array         : (100000, 7) \n",
            "Established length of input phrase : 7 \n"
          ]
        }
      ],
      "source": [
        "#transform input date to tokens sequences\n",
        "tokenQuestEng=tokenizer.texts_to_sequences(eng_questions)\n",
        "\n",
        "#get max length\n",
        "maxLenQuestEng=max([len(x) for x in tokenQuestEng])\n",
        "\n",
        "#make the sequences have equal length via padding with zeros\n",
        "paddedQuestEng=pad_sequences(tokenQuestEng, maxlen=maxLenQuestEng, padding='post')\n",
        "\n",
        "#to np.array\n",
        "encEngInput=np.array(paddedQuestEng)\n",
        "\n",
        "ind=1111 #index of example\n",
        "print(\"Input phrase example               : {} \".format(eng_questions[ind]))\n",
        "print('Input coded phrase example         : {} '.format(encEngInput[ind]))\n",
        "print('Shape of coded input array         : {} '.format(encEngInput.shape))\n",
        "print('Established length of input phrase : {} '.format(maxLenQuestEng))"
      ]
    },
    {
      "cell_type": "markdown",
      "metadata": {
        "id": "UZjsVMWGMuS4"
      },
      "source": [
        "training data prepocessing for decoder input"
      ]
    },
    {
      "cell_type": "code",
      "execution_count": null,
      "metadata": {
        "colab": {
          "base_uri": "https://localhost:8080/"
        },
        "id": "9uUs_CX-MzNi",
        "outputId": "b5edbe02-aced-4baf-90cf-8cc84d8c5974"
      },
      "outputs": [
        {
          "output_type": "stream",
          "name": "stdout",
          "text": [
            "Decoder input phrase example                   : <START> Направляйтесь на восток. <END> \n",
            "Decoder input coded phrase example             : [    1 12131    38  7867     2     0     0     0     0     0     0     0\n",
            "     0] \n",
            "Shape of coded input array for decoder         : (100000, 13) \n",
            "Established length of input phrase for decoder : 13 \n"
          ]
        }
      ],
      "source": [
        "tokenAnsRus=tokenizer.texts_to_sequences(rus_answers)\n",
        "maxLenAnsRus=max([len(x) for x in tokenAnsRus])\n",
        "\n",
        "paddedAnsRus=pad_sequences(tokenAnsRus, maxlen=maxLenAnsRus, padding='post')\n",
        "\n",
        "decRusInput=np.array(paddedAnsRus)\n",
        "\n",
        "ind=1111 #index of example\n",
        "print(\"Decoder input phrase example                   : {} \".format(rus_answers[ind]))\n",
        "print('Decoder input coded phrase example             : {} '.format(decRusInput[ind]))\n",
        "print('Shape of coded input array for decoder         : {} '.format(decRusInput.shape))\n",
        "print('Established length of input phrase for decoder : {} '.format(maxLenAnsRus))"
      ]
    },
    {
      "cell_type": "markdown",
      "metadata": {
        "id": "0LVxTyqiOQ9t"
      },
      "source": [
        "Validation data preprocessing for decoder output (these data are equal to data above, except deleted //'START' tag "
      ]
    },
    {
      "cell_type": "code",
      "execution_count": null,
      "metadata": {
        "colab": {
          "base_uri": "https://localhost:8080/"
        },
        "id": "VsgpWHYzOQe8",
        "outputId": "50201469-71c0-4d79-f0a0-b8ecca8db12a"
      },
      "outputs": [
        {
          "output_type": "stream",
          "name": "stdout",
          "text": [
            "Decoder output phrase example                   : <START> Направляйтесь на восток. <END> \n",
            "Decoder output coded phrase example             : [12131    38  7867     2     0     0     0     0     0     0     0     0\n",
            "     0] \n",
            "Shape of coded output array for decoder         : (100000, 13) \n"
          ]
        }
      ],
      "source": [
        "for i in range(len(tokenAnsRus)):  #remove the <START> tag\n",
        "  tokenAnsRus[i]=tokenAnsRus[i][1:]\n",
        "\n",
        "#make actions which are equal to action in previous code block\n",
        "\n",
        "#emphasise that we use max length  of phrase from previous block to train the model properly \n",
        "paddedAnsRus=pad_sequences(tokenAnsRus, maxlen=maxLenAnsRus, padding='post')  \n",
        "\n",
        "decRusOutput=np.array(paddedAnsRus)\n",
        "\n",
        "ind=1111 #index of example\n",
        "print(\"Decoder output phrase example                   : {} \".format(rus_answers[ind]))\n",
        "print('Decoder output coded phrase example             : {} '.format(decRusOutput[ind]))\n",
        "print('Shape of coded output array for decoder         : {} '.format(decRusOutput.shape))\n"
      ]
    },
    {
      "cell_type": "markdown",
      "metadata": {
        "id": "oaW8i4tZQoOS"
      },
      "source": [
        "#Preparing RUS-ENG data"
      ]
    },
    {
      "cell_type": "code",
      "execution_count": null,
      "metadata": {
        "colab": {
          "base_uri": "https://localhost:8080/"
        },
        "id": "n40EdhlLQs4_",
        "outputId": "f4f57b38-387f-4ad2-dedb-7827f6313178"
      },
      "outputs": [
        {
          "output_type": "stream",
          "name": "stdout",
          "text": [
            "Input phrase example               : Направляйтесь на восток. \n",
            "Input coded phrase example         : [12131    38  7867     0     0     0     0     0     0     0     0] \n",
            "Shape of coded input array         : (100000, 11) \n",
            "Established length of input phrase : 11 \n"
          ]
        }
      ],
      "source": [
        "#transform input date to tokens sequences\n",
        "tokenQuestRus=tokenizer.texts_to_sequences(rus_questions)\n",
        "\n",
        "#get max length\n",
        "maxLenQuestRus=max([len(x) for x in tokenQuestRus])\n",
        "\n",
        "#make the sequences have equal length via padding with zeros\n",
        "paddedQuestRus=pad_sequences(tokenQuestRus, maxlen=maxLenQuestRus, padding='post')\n",
        "\n",
        "#to np.array\n",
        "encRusInput=np.array(paddedQuestRus)\n",
        "\n",
        "ind=1111 #index of example\n",
        "print(\"Input phrase example               : {} \".format(rus_questions[ind]))\n",
        "print('Input coded phrase example         : {} '.format(encRusInput[ind]))\n",
        "print('Shape of coded input array         : {} '.format(encRusInput.shape))\n",
        "print('Established length of input phrase : {} '.format(maxLenQuestRus))"
      ]
    },
    {
      "cell_type": "code",
      "execution_count": null,
      "metadata": {
        "colab": {
          "base_uri": "https://localhost:8080/"
        },
        "id": "FfyysHa3YQKm",
        "outputId": "7bd9af53-15ae-4aff-8c39-d406b4a5a0bb"
      },
      "outputs": [
        {
          "output_type": "stream",
          "name": "stdout",
          "text": [
            "Decoder input phrase example                   : <START> Head east. <END> \n",
            "Decoder input coded phrase example             : [   1 1982 7518    2    0    0    0    0    0] \n",
            "Shape of coded input array for decoder         : (100000, 9) \n",
            "Established length of input phrase for decoder : 9 \n"
          ]
        }
      ],
      "source": [
        "tokenAnsEng=tokenizer.texts_to_sequences(eng_answers)\n",
        "maxLenAnsEng=max([len(x) for x in tokenAnsEng])\n",
        "\n",
        "paddedAnsEng=pad_sequences(tokenAnsEng, maxlen=maxLenAnsEng, padding='post')\n",
        "\n",
        "decEngInput=np.array(paddedAnsEng)\n",
        "\n",
        "ind=1111 #index of example\n",
        "print(\"Decoder input phrase example                   : {} \".format(eng_answers[ind]))\n",
        "print('Decoder input coded phrase example             : {} '.format(decEngInput[ind]))\n",
        "print('Shape of coded input array for decoder         : {} '.format(decEngInput.shape))\n",
        "print('Established length of input phrase for decoder : {} '.format(maxLenAnsEng))"
      ]
    },
    {
      "cell_type": "code",
      "execution_count": null,
      "metadata": {
        "colab": {
          "base_uri": "https://localhost:8080/"
        },
        "id": "Xl490Q4MYxpH",
        "outputId": "deb542f3-0094-4468-bc46-f96fa22e5a69"
      },
      "outputs": [
        {
          "output_type": "stream",
          "name": "stdout",
          "text": [
            "Decoder output phrase example                   : <START> Head east. <END> \n",
            "Decoder output coded phrase example             : [1982 7518    2    0    0    0    0    0    0] \n",
            "Shape of coded output array for decoder         : (100000, 9) \n"
          ]
        }
      ],
      "source": [
        "for i in range(len(tokenAnsEng)):  #remove the <START> tag\n",
        "  tokenAnsEng[i]=tokenAnsEng[i][1:]\n",
        "\n",
        "#make actions which are equal to action in previous code block\n",
        "\n",
        "#emphasise that we use max length  of phrase from previous block to train the model properly \n",
        "paddedAnsEng=pad_sequences(tokenAnsEng, maxlen=maxLenAnsEng, padding='post')  \n",
        "\n",
        "decEngOutput=np.array(paddedAnsEng)\n",
        "\n",
        "ind=1111 #index of example\n",
        "print(\"Decoder output phrase example                   : {} \".format(eng_answers[ind]))\n",
        "print('Decoder output coded phrase example             : {} '.format(decEngOutput[ind]))\n",
        "print('Shape of coded output array for decoder         : {} '.format(decEngOutput.shape))"
      ]
    },
    {
      "cell_type": "markdown",
      "metadata": {
        "id": "AzWmTcZwRUQ2"
      },
      "source": [
        "# The Model Class"
      ]
    },
    {
      "cell_type": "code",
      "execution_count": null,
      "metadata": {
        "id": "9sEKDZkdUQKx"
      },
      "outputs": [],
      "source": [
        "class Translator():\n",
        "  def __init__(self, maxLenInput,maxLenOutput, drop_rate=0.2):\n",
        "    self.num_units=400                # number of neurons\n",
        "    self.maxLenInput=maxLenInput      #maximum length of input sentence\n",
        "    self.maxLenOutput=maxLenOutput    #maximum length of output sentence\n",
        "    self.drop_rate=drop_rate          #dropout rate\n",
        "\n",
        "    self.__makeEncoder()    #create the encoder\n",
        "    self.__makeDecoder()    #create the decoder\n",
        "    \n",
        "    self.modelTrain=Model([self.encInput,self.decInput],self.output)  #create the model\n",
        "    self.modelTrain.compile(optimizer=RMSprop(), loss='sparse_categorical_crossentropy') #compile the model \n",
        "    \n",
        "  #encoder architecture\n",
        "  def __makeEncoder(self):\n",
        "    self.encInput=Input(shape=(None,))                                           #input layer\n",
        "    encEmb=Embedding(vocabularySize,self.num_units, mask_zero=True) (self.encInput)    #embedding layer\n",
        "    drop=SpatialDropout1D(self.drop_rate) (encEmb)\n",
        "    outputs, state_h, state_c=LSTM(self.num_units, return_state=True) (drop)         #LSTM with its states\n",
        "\n",
        "    self.encStates=[state_h, state_c]                                            #encoder states\n",
        "\n",
        "  #decoder architecture\n",
        "  def __makeDecoder(self):\n",
        "\n",
        "    #some layers for decoder\n",
        "    self.decLSTM=LSTM(self.num_units, return_state=True, return_sequences=True)            #LSTM layer with sequences and states\n",
        "    self.decDense=Dense(vocabularySize,activation='softmax')                    #Dense with softmax activation\n",
        "\n",
        "    self.decInput=Input(shape=(None,))                                          #input layer\n",
        "    self.decEmb=Embedding(vocabularySize,self.num_units, mask_zero=True) (self.decInput)   #embedding\n",
        "    drop=SpatialDropout1D(self.drop_rate) (self.decEmb)\n",
        "    decoderOutputs, _, _ =self.decLSTM(drop,initial_state=self.encStates) #LSTM outputs\n",
        "    self.output=self.decDense(decoderOutputs)\n",
        "\n",
        "\n",
        "  #train function \n",
        "  def train(self,xDataInput,yDataInput,batch_size=256,epochs=30,initial_epoch=0, val_split=0.1, random_seed=33 ):\n",
        "    \n",
        "    #copy data to independent shuffle\n",
        "    xData1=np.copy(xDataInput[0])\n",
        "    xData2=np.copy(xDataInput[1])\n",
        "    yData=np.copy(yDataInput)\n",
        "    #shuffle with certain seed\n",
        "    np.random.seed(random_seed)\n",
        "    np.random.shuffle(xData1)\n",
        "    np.random.seed(random_seed)\n",
        "    np.random.shuffle(xData2)\n",
        "    np.random.seed(random_seed)\n",
        "    np.random.shuffle(yData)\n",
        "    \n",
        "    history=self.modelTrain.fit([xData1,xData2],yData,batch_size=batch_size,epochs=epochs+initial_epoch,initial_epoch=initial_epoch,validation_split=val_split)\n",
        "\n",
        "    return history.history  #return the history\n",
        "\n",
        "\n",
        "  #method to making inference model\n",
        "  def makeInferenceModel(self):\n",
        "\n",
        "    self.encInfer=Model(self.encInput, self.encStates)\n",
        "\n",
        "    decStateInput_h=Input(shape=(self.num_units,)) #Input for state_h\n",
        "    decStateInput_c=Input(shape=(self.num_units,)) #Input for state_c\n",
        "\n",
        "    decStatesInputs=[decStateInput_h, decStateInput_c] #combine inputs\n",
        "\n",
        "    #get the output from decoder\n",
        "    decOut, state_h, state_c=self.decLSTM(self.decEmb, initial_state=decStatesInputs)\n",
        "\n",
        "    #combine states\n",
        "    decStates=[state_h,state_c]\n",
        "\n",
        "    #fed Dense layer \n",
        "    decOut=self.decDense(decOut)\n",
        "\n",
        "    self.decInf=Model([self.decInput]+decStatesInputs,[decOut]+decStates)\n",
        "  \n",
        "\n",
        "  #Translation of sentence\n",
        "  def translate(self,inputs):\n",
        "    \n",
        "    in_tokens=strToTokens(inputs,self.maxLenInput) #get tokens from input sentence\n",
        "\n",
        "    if in_tokens is None: #if network don't know every word from input\n",
        "      return 'None'\n",
        "\n",
        "    oneTargetToken=np.zeros((1,1))  #one token to feed the decoder\n",
        "    oneTargetToken[0,0]=tokenizer.word_index['start'] #firstly it's tag \"start\"\n",
        "\n",
        "    stopCondition=False\n",
        "\n",
        "    outputs=''  #decoded translation\n",
        "\n",
        "    statesValues=self.encInfer(in_tokens) #get the encoder station\n",
        "\n",
        "    while not stopCondition:\n",
        "      \n",
        "      #make prediction\n",
        "      decOut, h, c=self.decInf.predict([oneTargetToken]+statesValues)\n",
        "\n",
        "      #get the token of predicted word\n",
        "      sampledWordInd=np.argmax(decOut[0,0,:])\n",
        "\n",
        "      sampledWord = None #variable for word in natural language\n",
        "\n",
        "      #find the target token\n",
        "      for word, index in tokenizer.word_index.items():\n",
        "        if sampledWordInd==index:\n",
        "            outputs+=' {}'.format(word)\n",
        "            sampledWord=word\n",
        "\n",
        "      #tag \"end\" was generated or length is more than maximum length\n",
        "      if sampledWord=='end' or len(outputs.split(\" \"))>self.maxLenOutput:\n",
        "          stopCondition=True\n",
        "          if sampledWord=='end': #tag 'end' was gotten\n",
        "            outputs=outputs[:-3] #delete the tag\n",
        "\n",
        "      oneTargetToken[0,0]=sampledWordInd #update the token to feed\n",
        "\n",
        "      statesValues=[h,c] #update the states values\n",
        "    \n",
        "    outputs=outputs[1:] #delete the first \" \"\n",
        "\n",
        "    if outputs[-1]==\" \": #delete the last \" \", if it exists\n",
        "      outputs=outputs[:-1]\n",
        "\n",
        "    return outputs\n",
        "\n",
        "  #saving and loading weights\n",
        "  def saveWeights(self,path):\n",
        "    self.modelTrain.save_weights(path)\n",
        "\n",
        "  def loadWeights(self,path):\n",
        "    self.modelTrain.load_weights(path)\n",
        "\n",
        "\n",
        "\n",
        "\n"
      ]
    },
    {
      "cell_type": "markdown",
      "metadata": {
        "id": "Q8bFFeqe7dBn"
      },
      "source": [
        "#Training"
      ]
    },
    {
      "cell_type": "markdown",
      "metadata": {
        "id": "VNICI1eLCLFO"
      },
      "source": [
        "##ENG-RUS translator"
      ]
    },
    {
      "cell_type": "code",
      "execution_count": null,
      "metadata": {
        "id": "ZsZILmMIAesv"
      },
      "outputs": [],
      "source": [
        "EngRusTranslator=Translator(maxLenQuestEng,maxLenAnsRus, drop_rate=0.4) #creating the ENG-RUS translator"
      ]
    },
    {
      "cell_type": "code",
      "execution_count": null,
      "metadata": {
        "colab": {
          "base_uri": "https://localhost:8080/",
          "height": 1000
        },
        "id": "lA_1mpoW7g07",
        "outputId": "2b1cc358-a8bb-4704-9364-5012e5a5643a"
      },
      "outputs": [
        {
          "output_type": "stream",
          "name": "stdout",
          "text": [
            "Epoch 1/100\n",
            "352/352 [==============================] - 115s 301ms/step - loss: 1.7962 - val_loss: 1.5058\n",
            "Epoch 2/100\n",
            "352/352 [==============================] - 103s 292ms/step - loss: 1.3672 - val_loss: 1.2940\n",
            "Epoch 3/100\n",
            "352/352 [==============================] - 103s 292ms/step - loss: 1.1795 - val_loss: 1.1528\n",
            "Epoch 4/100\n",
            "352/352 [==============================] - 103s 292ms/step - loss: 1.0474 - val_loss: 1.0552\n",
            "Epoch 5/100\n",
            "352/352 [==============================] - 103s 292ms/step - loss: 0.9482 - val_loss: 0.9878\n",
            "Epoch 6/100\n",
            "352/352 [==============================] - 103s 292ms/step - loss: 0.8759 - val_loss: 0.9407\n",
            "Epoch 7/100\n",
            "352/352 [==============================] - 103s 292ms/step - loss: 0.8193 - val_loss: 0.9036\n",
            "Epoch 8/100\n",
            "352/352 [==============================] - 103s 292ms/step - loss: 0.7701 - val_loss: 0.8754\n",
            "Epoch 9/100\n",
            "352/352 [==============================] - 103s 292ms/step - loss: 0.7311 - val_loss: 0.8575\n",
            "Epoch 10/100\n",
            "352/352 [==============================] - 103s 291ms/step - loss: 0.6997 - val_loss: 0.8451\n",
            "Epoch 11/100\n",
            "352/352 [==============================] - 103s 291ms/step - loss: 0.6745 - val_loss: 0.8330\n",
            "Epoch 12/100\n",
            "352/352 [==============================] - 102s 291ms/step - loss: 0.6495 - val_loss: 0.8167\n",
            "Epoch 13/100\n",
            "352/352 [==============================] - 102s 290ms/step - loss: 0.6294 - val_loss: 0.8107\n",
            "Epoch 14/100\n",
            "352/352 [==============================] - 102s 289ms/step - loss: 0.6134 - val_loss: 0.8046\n",
            "Epoch 15/100\n",
            "352/352 [==============================] - 102s 289ms/step - loss: 0.5976 - val_loss: 0.8001\n",
            "Epoch 16/100\n",
            "352/352 [==============================] - 102s 290ms/step - loss: 0.5819 - val_loss: 0.7910\n",
            "Epoch 17/100\n",
            "352/352 [==============================] - 102s 290ms/step - loss: 0.5669 - val_loss: 0.7917\n",
            "Epoch 18/100\n",
            "352/352 [==============================] - 102s 289ms/step - loss: 0.5559 - val_loss: 0.7877\n",
            "Epoch 19/100\n",
            "352/352 [==============================] - 102s 289ms/step - loss: 0.5427 - val_loss: 0.7889\n",
            "Epoch 20/100\n",
            "352/352 [==============================] - 102s 289ms/step - loss: 0.5336 - val_loss: 0.7854\n",
            "Epoch 21/100\n",
            "352/352 [==============================] - 102s 290ms/step - loss: 0.5249 - val_loss: 0.7861\n",
            "Epoch 22/100\n",
            "352/352 [==============================] - 102s 289ms/step - loss: 0.5167 - val_loss: 0.7887\n",
            "Epoch 23/100\n",
            "352/352 [==============================] - 102s 289ms/step - loss: 0.5080 - val_loss: 0.7871\n",
            "Epoch 24/100\n",
            "352/352 [==============================] - 102s 289ms/step - loss: 0.5000 - val_loss: 0.7864\n",
            "Epoch 25/100\n",
            "352/352 [==============================] - 102s 289ms/step - loss: 0.4917 - val_loss: 0.7860\n",
            "Epoch 26/100\n",
            "352/352 [==============================] - 102s 289ms/step - loss: 0.4829 - val_loss: 0.7819\n",
            "Epoch 27/100\n",
            "352/352 [==============================] - 102s 289ms/step - loss: 0.4751 - val_loss: 0.7794\n",
            "Epoch 28/100\n",
            "352/352 [==============================] - 102s 289ms/step - loss: 0.4678 - val_loss: 0.7795\n",
            "Epoch 29/100\n",
            "352/352 [==============================] - 102s 289ms/step - loss: 0.4621 - val_loss: 0.7784\n",
            "Epoch 30/100\n",
            "352/352 [==============================] - 102s 289ms/step - loss: 0.4565 - val_loss: 0.7774\n",
            "Epoch 31/100\n",
            "352/352 [==============================] - 102s 289ms/step - loss: 0.4507 - val_loss: 0.7777\n",
            "Epoch 32/100\n",
            "352/352 [==============================] - 102s 290ms/step - loss: 0.4451 - val_loss: 0.7769\n",
            "Epoch 33/100\n",
            "352/352 [==============================] - 102s 289ms/step - loss: 0.4400 - val_loss: 0.7774\n",
            "Epoch 34/100\n",
            "352/352 [==============================] - 102s 289ms/step - loss: 0.4349 - val_loss: 0.7766\n",
            "Epoch 35/100\n",
            "352/352 [==============================] - 102s 290ms/step - loss: 0.4295 - val_loss: 0.7760\n",
            "Epoch 36/100\n",
            "352/352 [==============================] - 102s 289ms/step - loss: 0.4245 - val_loss: 0.7747\n",
            "Epoch 37/100\n",
            "352/352 [==============================] - 102s 289ms/step - loss: 0.4193 - val_loss: 0.7723\n",
            "Epoch 38/100\n",
            "352/352 [==============================] - 102s 289ms/step - loss: 0.4149 - val_loss: 0.7710\n",
            "Epoch 39/100\n",
            "352/352 [==============================] - 102s 289ms/step - loss: 0.4101 - val_loss: 0.7714\n",
            "Epoch 40/100\n",
            "352/352 [==============================] - 103s 292ms/step - loss: 0.4059 - val_loss: 0.7718\n",
            "Epoch 41/100\n",
            "352/352 [==============================] - 102s 289ms/step - loss: 0.4019 - val_loss: 0.7716\n",
            "Epoch 42/100\n",
            "352/352 [==============================] - 102s 289ms/step - loss: 0.3979 - val_loss: 0.7710\n",
            "Epoch 43/100\n",
            "352/352 [==============================] - 102s 290ms/step - loss: 0.3943 - val_loss: 0.7674\n",
            "Epoch 44/100\n",
            "352/352 [==============================] - 102s 289ms/step - loss: 0.3905 - val_loss: 0.7716\n",
            "Epoch 45/100\n",
            "352/352 [==============================] - 102s 290ms/step - loss: 0.3869 - val_loss: 0.7690\n",
            "Epoch 46/100\n",
            "352/352 [==============================] - 102s 290ms/step - loss: 0.3837 - val_loss: 0.7681\n",
            "Epoch 47/100\n",
            "352/352 [==============================] - 102s 289ms/step - loss: 0.3806 - val_loss: 0.7705\n",
            "Epoch 48/100\n",
            "352/352 [==============================] - 102s 290ms/step - loss: 0.3774 - val_loss: 0.7674\n",
            "Epoch 49/100\n",
            "352/352 [==============================] - 102s 289ms/step - loss: 0.3747 - val_loss: 0.7679\n",
            "Epoch 50/100\n",
            "352/352 [==============================] - 102s 289ms/step - loss: 0.3720 - val_loss: 0.7662\n",
            "Epoch 51/100\n",
            "352/352 [==============================] - 102s 289ms/step - loss: 0.3697 - val_loss: 0.7685\n",
            "Epoch 52/100\n",
            "352/352 [==============================] - 102s 289ms/step - loss: 0.3678 - val_loss: 0.7684\n",
            "Epoch 53/100\n",
            "352/352 [==============================] - 102s 289ms/step - loss: 0.3652 - val_loss: 0.7689\n",
            "Epoch 54/100\n",
            "352/352 [==============================] - 102s 289ms/step - loss: 0.3631 - val_loss: 0.7708\n",
            "Epoch 55/100\n",
            "352/352 [==============================] - 102s 289ms/step - loss: 0.3614 - val_loss: 0.7711\n",
            "Epoch 56/100\n",
            "352/352 [==============================] - 102s 289ms/step - loss: 0.3595 - val_loss: 0.7722\n",
            "Epoch 57/100\n",
            "352/352 [==============================] - 102s 289ms/step - loss: 0.3578 - val_loss: 0.7719\n",
            "Epoch 58/100\n",
            "352/352 [==============================] - 102s 289ms/step - loss: 0.3565 - val_loss: 0.7733\n",
            "Epoch 59/100\n",
            "352/352 [==============================] - 102s 289ms/step - loss: 0.3548 - val_loss: 0.7737\n",
            "Epoch 60/100\n",
            "352/352 [==============================] - 102s 289ms/step - loss: 0.3534 - val_loss: 0.7748\n",
            "Epoch 61/100\n",
            "352/352 [==============================] - 102s 289ms/step - loss: 0.3525 - val_loss: 0.7748\n",
            "Epoch 62/100\n",
            "352/352 [==============================] - 102s 290ms/step - loss: 0.3515 - val_loss: 0.7758\n",
            "Epoch 63/100\n",
            "352/352 [==============================] - 102s 289ms/step - loss: 0.3503 - val_loss: 0.7765\n",
            "Epoch 64/100\n",
            "352/352 [==============================] - 102s 289ms/step - loss: 0.3490 - val_loss: 0.7793\n",
            "Epoch 65/100\n",
            "352/352 [==============================] - 102s 289ms/step - loss: 0.3482 - val_loss: 0.7785\n",
            "Epoch 66/100\n",
            "352/352 [==============================] - 102s 289ms/step - loss: 0.3474 - val_loss: 0.7786\n",
            "Epoch 67/100\n",
            "352/352 [==============================] - 102s 289ms/step - loss: 0.3464 - val_loss: 0.7801\n",
            "Epoch 68/100\n",
            "352/352 [==============================] - 102s 289ms/step - loss: 0.3457 - val_loss: 0.7826\n",
            "Epoch 69/100\n",
            "352/352 [==============================] - 102s 289ms/step - loss: 0.3448 - val_loss: 0.7825\n",
            "Epoch 70/100\n",
            "352/352 [==============================] - 102s 289ms/step - loss: 0.3440 - val_loss: 0.7841\n",
            "Epoch 71/100\n",
            "352/352 [==============================] - 102s 289ms/step - loss: 0.3425 - val_loss: 0.7832\n",
            "Epoch 72/100\n",
            "352/352 [==============================] - 102s 289ms/step - loss: 0.3417 - val_loss: 0.7855\n",
            "Epoch 73/100\n",
            "352/352 [==============================] - 102s 289ms/step - loss: 0.3410 - val_loss: 0.7839\n",
            "Epoch 74/100\n",
            "352/352 [==============================] - 102s 289ms/step - loss: 0.3399 - val_loss: 0.7867\n",
            "Epoch 75/100\n",
            "352/352 [==============================] - 102s 289ms/step - loss: 0.3389 - val_loss: 0.7868\n",
            "Epoch 76/100\n",
            "352/352 [==============================] - 102s 289ms/step - loss: 0.3376 - val_loss: 0.7872\n",
            "Epoch 77/100\n",
            "352/352 [==============================] - 102s 289ms/step - loss: 0.3363 - val_loss: 0.7869\n",
            "Epoch 78/100\n",
            "352/352 [==============================] - 102s 289ms/step - loss: 0.3354 - val_loss: 0.7905\n",
            "Epoch 79/100\n",
            "352/352 [==============================] - 102s 289ms/step - loss: 0.3343 - val_loss: 0.7898\n",
            "Epoch 80/100\n",
            "213/352 [=================>............] - ETA: 38s - loss: 0.3222"
          ]
        },
        {
          "output_type": "error",
          "ename": "KeyboardInterrupt",
          "evalue": "ignored",
          "traceback": [
            "\u001b[0;31m---------------------------------------------------------------------------\u001b[0m",
            "\u001b[0;31mKeyboardInterrupt\u001b[0m                         Traceback (most recent call last)",
            "\u001b[0;32m<ipython-input-35-2c9d375110a2>\u001b[0m in \u001b[0;36m<module>\u001b[0;34m()\u001b[0m\n\u001b[1;32m      1\u001b[0m \u001b[0;31m#fitting the model\u001b[0m\u001b[0;34m\u001b[0m\u001b[0;34m\u001b[0m\u001b[0;34m\u001b[0m\u001b[0m\n\u001b[0;32m----> 2\u001b[0;31m \u001b[0mhistory\u001b[0m\u001b[0;34m=\u001b[0m\u001b[0mEngRusTranslator\u001b[0m\u001b[0;34m.\u001b[0m\u001b[0mtrain\u001b[0m\u001b[0;34m(\u001b[0m\u001b[0;34m[\u001b[0m\u001b[0mencEngInput\u001b[0m\u001b[0;34m,\u001b[0m\u001b[0mdecRusInput\u001b[0m\u001b[0;34m]\u001b[0m\u001b[0;34m,\u001b[0m\u001b[0mdecRusOutput\u001b[0m\u001b[0;34m,\u001b[0m\u001b[0mepochs\u001b[0m\u001b[0;34m=\u001b[0m\u001b[0;36m100\u001b[0m\u001b[0;34m)\u001b[0m\u001b[0;34m\u001b[0m\u001b[0;34m\u001b[0m\u001b[0m\n\u001b[0m",
            "\u001b[0;32m<ipython-input-33-19e64c1405b9>\u001b[0m in \u001b[0;36mtrain\u001b[0;34m(self, xDataInput, yDataInput, batch_size, epochs, initial_epoch, val_split, random_seed)\u001b[0m\n\u001b[1;32m     50\u001b[0m     \u001b[0mnp\u001b[0m\u001b[0;34m.\u001b[0m\u001b[0mrandom\u001b[0m\u001b[0;34m.\u001b[0m\u001b[0mshuffle\u001b[0m\u001b[0;34m(\u001b[0m\u001b[0myData\u001b[0m\u001b[0;34m)\u001b[0m\u001b[0;34m\u001b[0m\u001b[0;34m\u001b[0m\u001b[0m\n\u001b[1;32m     51\u001b[0m \u001b[0;34m\u001b[0m\u001b[0m\n\u001b[0;32m---> 52\u001b[0;31m     \u001b[0mhistory\u001b[0m\u001b[0;34m=\u001b[0m\u001b[0mself\u001b[0m\u001b[0;34m.\u001b[0m\u001b[0mmodelTrain\u001b[0m\u001b[0;34m.\u001b[0m\u001b[0mfit\u001b[0m\u001b[0;34m(\u001b[0m\u001b[0;34m[\u001b[0m\u001b[0mxData1\u001b[0m\u001b[0;34m,\u001b[0m\u001b[0mxData2\u001b[0m\u001b[0;34m]\u001b[0m\u001b[0;34m,\u001b[0m\u001b[0myData\u001b[0m\u001b[0;34m,\u001b[0m\u001b[0mbatch_size\u001b[0m\u001b[0;34m=\u001b[0m\u001b[0mbatch_size\u001b[0m\u001b[0;34m,\u001b[0m\u001b[0mepochs\u001b[0m\u001b[0;34m=\u001b[0m\u001b[0mepochs\u001b[0m\u001b[0;34m+\u001b[0m\u001b[0minitial_epoch\u001b[0m\u001b[0;34m,\u001b[0m\u001b[0minitial_epoch\u001b[0m\u001b[0;34m=\u001b[0m\u001b[0minitial_epoch\u001b[0m\u001b[0;34m,\u001b[0m\u001b[0mvalidation_split\u001b[0m\u001b[0;34m=\u001b[0m\u001b[0mval_split\u001b[0m\u001b[0;34m)\u001b[0m\u001b[0;34m\u001b[0m\u001b[0;34m\u001b[0m\u001b[0m\n\u001b[0m\u001b[1;32m     53\u001b[0m \u001b[0;34m\u001b[0m\u001b[0m\n\u001b[1;32m     54\u001b[0m     \u001b[0;32mreturn\u001b[0m \u001b[0mhistory\u001b[0m\u001b[0;34m.\u001b[0m\u001b[0mhistory\u001b[0m  \u001b[0;31m#return the history\u001b[0m\u001b[0;34m\u001b[0m\u001b[0;34m\u001b[0m\u001b[0m\n",
            "\u001b[0;32m/usr/local/lib/python3.7/dist-packages/keras/utils/traceback_utils.py\u001b[0m in \u001b[0;36merror_handler\u001b[0;34m(*args, **kwargs)\u001b[0m\n\u001b[1;32m     62\u001b[0m     \u001b[0mfiltered_tb\u001b[0m \u001b[0;34m=\u001b[0m \u001b[0;32mNone\u001b[0m\u001b[0;34m\u001b[0m\u001b[0;34m\u001b[0m\u001b[0m\n\u001b[1;32m     63\u001b[0m     \u001b[0;32mtry\u001b[0m\u001b[0;34m:\u001b[0m\u001b[0;34m\u001b[0m\u001b[0;34m\u001b[0m\u001b[0m\n\u001b[0;32m---> 64\u001b[0;31m       \u001b[0;32mreturn\u001b[0m \u001b[0mfn\u001b[0m\u001b[0;34m(\u001b[0m\u001b[0;34m*\u001b[0m\u001b[0margs\u001b[0m\u001b[0;34m,\u001b[0m \u001b[0;34m**\u001b[0m\u001b[0mkwargs\u001b[0m\u001b[0;34m)\u001b[0m\u001b[0;34m\u001b[0m\u001b[0;34m\u001b[0m\u001b[0m\n\u001b[0m\u001b[1;32m     65\u001b[0m     \u001b[0;32mexcept\u001b[0m \u001b[0mException\u001b[0m \u001b[0;32mas\u001b[0m \u001b[0me\u001b[0m\u001b[0;34m:\u001b[0m  \u001b[0;31m# pylint: disable=broad-except\u001b[0m\u001b[0;34m\u001b[0m\u001b[0;34m\u001b[0m\u001b[0m\n\u001b[1;32m     66\u001b[0m       \u001b[0mfiltered_tb\u001b[0m \u001b[0;34m=\u001b[0m \u001b[0m_process_traceback_frames\u001b[0m\u001b[0;34m(\u001b[0m\u001b[0me\u001b[0m\u001b[0;34m.\u001b[0m\u001b[0m__traceback__\u001b[0m\u001b[0;34m)\u001b[0m\u001b[0;34m\u001b[0m\u001b[0;34m\u001b[0m\u001b[0m\n",
            "\u001b[0;32m/usr/local/lib/python3.7/dist-packages/keras/engine/training.py\u001b[0m in \u001b[0;36mfit\u001b[0;34m(self, x, y, batch_size, epochs, verbose, callbacks, validation_split, validation_data, shuffle, class_weight, sample_weight, initial_epoch, steps_per_epoch, validation_steps, validation_batch_size, validation_freq, max_queue_size, workers, use_multiprocessing)\u001b[0m\n\u001b[1;32m   1382\u001b[0m                 _r=1):\n\u001b[1;32m   1383\u001b[0m               \u001b[0mcallbacks\u001b[0m\u001b[0;34m.\u001b[0m\u001b[0mon_train_batch_begin\u001b[0m\u001b[0;34m(\u001b[0m\u001b[0mstep\u001b[0m\u001b[0;34m)\u001b[0m\u001b[0;34m\u001b[0m\u001b[0;34m\u001b[0m\u001b[0m\n\u001b[0;32m-> 1384\u001b[0;31m               \u001b[0mtmp_logs\u001b[0m \u001b[0;34m=\u001b[0m \u001b[0mself\u001b[0m\u001b[0;34m.\u001b[0m\u001b[0mtrain_function\u001b[0m\u001b[0;34m(\u001b[0m\u001b[0miterator\u001b[0m\u001b[0;34m)\u001b[0m\u001b[0;34m\u001b[0m\u001b[0;34m\u001b[0m\u001b[0m\n\u001b[0m\u001b[1;32m   1385\u001b[0m               \u001b[0;32mif\u001b[0m \u001b[0mdata_handler\u001b[0m\u001b[0;34m.\u001b[0m\u001b[0mshould_sync\u001b[0m\u001b[0;34m:\u001b[0m\u001b[0;34m\u001b[0m\u001b[0;34m\u001b[0m\u001b[0m\n\u001b[1;32m   1386\u001b[0m                 \u001b[0mcontext\u001b[0m\u001b[0;34m.\u001b[0m\u001b[0masync_wait\u001b[0m\u001b[0;34m(\u001b[0m\u001b[0;34m)\u001b[0m\u001b[0;34m\u001b[0m\u001b[0;34m\u001b[0m\u001b[0m\n",
            "\u001b[0;32m/usr/local/lib/python3.7/dist-packages/tensorflow/python/util/traceback_utils.py\u001b[0m in \u001b[0;36merror_handler\u001b[0;34m(*args, **kwargs)\u001b[0m\n\u001b[1;32m    148\u001b[0m     \u001b[0mfiltered_tb\u001b[0m \u001b[0;34m=\u001b[0m \u001b[0;32mNone\u001b[0m\u001b[0;34m\u001b[0m\u001b[0;34m\u001b[0m\u001b[0m\n\u001b[1;32m    149\u001b[0m     \u001b[0;32mtry\u001b[0m\u001b[0;34m:\u001b[0m\u001b[0;34m\u001b[0m\u001b[0;34m\u001b[0m\u001b[0m\n\u001b[0;32m--> 150\u001b[0;31m       \u001b[0;32mreturn\u001b[0m \u001b[0mfn\u001b[0m\u001b[0;34m(\u001b[0m\u001b[0;34m*\u001b[0m\u001b[0margs\u001b[0m\u001b[0;34m,\u001b[0m \u001b[0;34m**\u001b[0m\u001b[0mkwargs\u001b[0m\u001b[0;34m)\u001b[0m\u001b[0;34m\u001b[0m\u001b[0;34m\u001b[0m\u001b[0m\n\u001b[0m\u001b[1;32m    151\u001b[0m     \u001b[0;32mexcept\u001b[0m \u001b[0mException\u001b[0m \u001b[0;32mas\u001b[0m \u001b[0me\u001b[0m\u001b[0;34m:\u001b[0m\u001b[0;34m\u001b[0m\u001b[0;34m\u001b[0m\u001b[0m\n\u001b[1;32m    152\u001b[0m       \u001b[0mfiltered_tb\u001b[0m \u001b[0;34m=\u001b[0m \u001b[0m_process_traceback_frames\u001b[0m\u001b[0;34m(\u001b[0m\u001b[0me\u001b[0m\u001b[0;34m.\u001b[0m\u001b[0m__traceback__\u001b[0m\u001b[0;34m)\u001b[0m\u001b[0;34m\u001b[0m\u001b[0;34m\u001b[0m\u001b[0m\n",
            "\u001b[0;32m/usr/local/lib/python3.7/dist-packages/tensorflow/python/eager/def_function.py\u001b[0m in \u001b[0;36m__call__\u001b[0;34m(self, *args, **kwds)\u001b[0m\n\u001b[1;32m    913\u001b[0m \u001b[0;34m\u001b[0m\u001b[0m\n\u001b[1;32m    914\u001b[0m       \u001b[0;32mwith\u001b[0m \u001b[0mOptionalXlaContext\u001b[0m\u001b[0;34m(\u001b[0m\u001b[0mself\u001b[0m\u001b[0;34m.\u001b[0m\u001b[0m_jit_compile\u001b[0m\u001b[0;34m)\u001b[0m\u001b[0;34m:\u001b[0m\u001b[0;34m\u001b[0m\u001b[0;34m\u001b[0m\u001b[0m\n\u001b[0;32m--> 915\u001b[0;31m         \u001b[0mresult\u001b[0m \u001b[0;34m=\u001b[0m \u001b[0mself\u001b[0m\u001b[0;34m.\u001b[0m\u001b[0m_call\u001b[0m\u001b[0;34m(\u001b[0m\u001b[0;34m*\u001b[0m\u001b[0margs\u001b[0m\u001b[0;34m,\u001b[0m \u001b[0;34m**\u001b[0m\u001b[0mkwds\u001b[0m\u001b[0;34m)\u001b[0m\u001b[0;34m\u001b[0m\u001b[0;34m\u001b[0m\u001b[0m\n\u001b[0m\u001b[1;32m    916\u001b[0m \u001b[0;34m\u001b[0m\u001b[0m\n\u001b[1;32m    917\u001b[0m       \u001b[0mnew_tracing_count\u001b[0m \u001b[0;34m=\u001b[0m \u001b[0mself\u001b[0m\u001b[0;34m.\u001b[0m\u001b[0mexperimental_get_tracing_count\u001b[0m\u001b[0;34m(\u001b[0m\u001b[0;34m)\u001b[0m\u001b[0;34m\u001b[0m\u001b[0;34m\u001b[0m\u001b[0m\n",
            "\u001b[0;32m/usr/local/lib/python3.7/dist-packages/tensorflow/python/eager/def_function.py\u001b[0m in \u001b[0;36m_call\u001b[0;34m(self, *args, **kwds)\u001b[0m\n\u001b[1;32m    945\u001b[0m       \u001b[0;31m# In this case we have created variables on the first call, so we run the\u001b[0m\u001b[0;34m\u001b[0m\u001b[0;34m\u001b[0m\u001b[0;34m\u001b[0m\u001b[0m\n\u001b[1;32m    946\u001b[0m       \u001b[0;31m# defunned version which is guaranteed to never create variables.\u001b[0m\u001b[0;34m\u001b[0m\u001b[0;34m\u001b[0m\u001b[0;34m\u001b[0m\u001b[0m\n\u001b[0;32m--> 947\u001b[0;31m       \u001b[0;32mreturn\u001b[0m \u001b[0mself\u001b[0m\u001b[0;34m.\u001b[0m\u001b[0m_stateless_fn\u001b[0m\u001b[0;34m(\u001b[0m\u001b[0;34m*\u001b[0m\u001b[0margs\u001b[0m\u001b[0;34m,\u001b[0m \u001b[0;34m**\u001b[0m\u001b[0mkwds\u001b[0m\u001b[0;34m)\u001b[0m  \u001b[0;31m# pylint: disable=not-callable\u001b[0m\u001b[0;34m\u001b[0m\u001b[0;34m\u001b[0m\u001b[0m\n\u001b[0m\u001b[1;32m    948\u001b[0m     \u001b[0;32melif\u001b[0m \u001b[0mself\u001b[0m\u001b[0;34m.\u001b[0m\u001b[0m_stateful_fn\u001b[0m \u001b[0;32mis\u001b[0m \u001b[0;32mnot\u001b[0m \u001b[0;32mNone\u001b[0m\u001b[0;34m:\u001b[0m\u001b[0;34m\u001b[0m\u001b[0;34m\u001b[0m\u001b[0m\n\u001b[1;32m    949\u001b[0m       \u001b[0;31m# Release the lock early so that multiple threads can perform the call\u001b[0m\u001b[0;34m\u001b[0m\u001b[0;34m\u001b[0m\u001b[0;34m\u001b[0m\u001b[0m\n",
            "\u001b[0;32m/usr/local/lib/python3.7/dist-packages/tensorflow/python/eager/function.py\u001b[0m in \u001b[0;36m__call__\u001b[0;34m(self, *args, **kwargs)\u001b[0m\n\u001b[1;32m   2955\u001b[0m        filtered_flat_args) = self._maybe_define_function(args, kwargs)\n\u001b[1;32m   2956\u001b[0m     return graph_function._call_flat(\n\u001b[0;32m-> 2957\u001b[0;31m         filtered_flat_args, captured_inputs=graph_function.captured_inputs)  # pylint: disable=protected-access\n\u001b[0m\u001b[1;32m   2958\u001b[0m \u001b[0;34m\u001b[0m\u001b[0m\n\u001b[1;32m   2959\u001b[0m   \u001b[0;34m@\u001b[0m\u001b[0mproperty\u001b[0m\u001b[0;34m\u001b[0m\u001b[0;34m\u001b[0m\u001b[0m\n",
            "\u001b[0;32m/usr/local/lib/python3.7/dist-packages/tensorflow/python/eager/function.py\u001b[0m in \u001b[0;36m_call_flat\u001b[0;34m(self, args, captured_inputs, cancellation_manager)\u001b[0m\n\u001b[1;32m   1852\u001b[0m       \u001b[0;31m# No tape is watching; skip to running the function.\u001b[0m\u001b[0;34m\u001b[0m\u001b[0;34m\u001b[0m\u001b[0;34m\u001b[0m\u001b[0m\n\u001b[1;32m   1853\u001b[0m       return self._build_call_outputs(self._inference_function.call(\n\u001b[0;32m-> 1854\u001b[0;31m           ctx, args, cancellation_manager=cancellation_manager))\n\u001b[0m\u001b[1;32m   1855\u001b[0m     forward_backward = self._select_forward_and_backward_functions(\n\u001b[1;32m   1856\u001b[0m         \u001b[0margs\u001b[0m\u001b[0;34m,\u001b[0m\u001b[0;34m\u001b[0m\u001b[0;34m\u001b[0m\u001b[0m\n",
            "\u001b[0;32m/usr/local/lib/python3.7/dist-packages/tensorflow/python/eager/function.py\u001b[0m in \u001b[0;36mcall\u001b[0;34m(self, ctx, args, cancellation_manager)\u001b[0m\n\u001b[1;32m    502\u001b[0m               \u001b[0minputs\u001b[0m\u001b[0;34m=\u001b[0m\u001b[0margs\u001b[0m\u001b[0;34m,\u001b[0m\u001b[0;34m\u001b[0m\u001b[0;34m\u001b[0m\u001b[0m\n\u001b[1;32m    503\u001b[0m               \u001b[0mattrs\u001b[0m\u001b[0;34m=\u001b[0m\u001b[0mattrs\u001b[0m\u001b[0;34m,\u001b[0m\u001b[0;34m\u001b[0m\u001b[0;34m\u001b[0m\u001b[0m\n\u001b[0;32m--> 504\u001b[0;31m               ctx=ctx)\n\u001b[0m\u001b[1;32m    505\u001b[0m         \u001b[0;32melse\u001b[0m\u001b[0;34m:\u001b[0m\u001b[0;34m\u001b[0m\u001b[0;34m\u001b[0m\u001b[0m\n\u001b[1;32m    506\u001b[0m           outputs = execute.execute_with_cancellation(\n",
            "\u001b[0;32m/usr/local/lib/python3.7/dist-packages/tensorflow/python/eager/execute.py\u001b[0m in \u001b[0;36mquick_execute\u001b[0;34m(op_name, num_outputs, inputs, attrs, ctx, name)\u001b[0m\n\u001b[1;32m     53\u001b[0m     \u001b[0mctx\u001b[0m\u001b[0;34m.\u001b[0m\u001b[0mensure_initialized\u001b[0m\u001b[0;34m(\u001b[0m\u001b[0;34m)\u001b[0m\u001b[0;34m\u001b[0m\u001b[0;34m\u001b[0m\u001b[0m\n\u001b[1;32m     54\u001b[0m     tensors = pywrap_tfe.TFE_Py_Execute(ctx._handle, device_name, op_name,\n\u001b[0;32m---> 55\u001b[0;31m                                         inputs, attrs, num_outputs)\n\u001b[0m\u001b[1;32m     56\u001b[0m   \u001b[0;32mexcept\u001b[0m \u001b[0mcore\u001b[0m\u001b[0;34m.\u001b[0m\u001b[0m_NotOkStatusException\u001b[0m \u001b[0;32mas\u001b[0m \u001b[0me\u001b[0m\u001b[0;34m:\u001b[0m\u001b[0;34m\u001b[0m\u001b[0;34m\u001b[0m\u001b[0m\n\u001b[1;32m     57\u001b[0m     \u001b[0;32mif\u001b[0m \u001b[0mname\u001b[0m \u001b[0;32mis\u001b[0m \u001b[0;32mnot\u001b[0m \u001b[0;32mNone\u001b[0m\u001b[0;34m:\u001b[0m\u001b[0;34m\u001b[0m\u001b[0;34m\u001b[0m\u001b[0m\n",
            "\u001b[0;31mKeyboardInterrupt\u001b[0m: "
          ]
        }
      ],
      "source": [
        "#fitting the model\n",
        "history=EngRusTranslator.train([encEngInput,decRusInput],decRusOutput,epochs=100)"
      ]
    },
    {
      "cell_type": "markdown",
      "source": [
        "Stop the training process due to overfitting"
      ],
      "metadata": {
        "id": "cITSR6t01AU8"
      }
    },
    {
      "cell_type": "code",
      "execution_count": null,
      "metadata": {
        "id": "T17CPSL9-AYw",
        "colab": {
          "base_uri": "https://localhost:8080/",
          "height": 295
        },
        "outputId": "676beb02-e416-444c-c550-596e8581f32d"
      },
      "outputs": [
        {
          "output_type": "display_data",
          "data": {
            "text/plain": [
              "<Figure size 432x288 with 1 Axes>"
            ],
            "image/png": "[encoded data removed]"
          },
          "metadata": {
            "needs_background": "light"
          }
        }
      ],
      "source": [
        "#plot the chart of loss-function\n",
        "plt.plot(history['loss'],label='train')\n",
        "plt.plot(history['val_loss'],label='val')\n",
        "plt.xlabel('Epochs')\n",
        "plt.ylabel('Loss')\n",
        "plt.title('ENG-RUS Translator Training')\n",
        "plt.legend()\n",
        "plt.show()"
      ]
    },
    {
      "cell_type": "code",
      "execution_count": null,
      "metadata": {
        "id": "0mAbd5oU-h3t"
      },
      "outputs": [],
      "source": [
        "EngRusTranslator.makeInferenceModel() #creating the inference model"
      ]
    },
    {
      "cell_type": "code",
      "execution_count": null,
      "metadata": {
        "id": "oX0L_9JqE_mw"
      },
      "outputs": [],
      "source": [
        "EngRusTranslator.saveWeights('/content/drive/MyDrive/PostUAI/advancedSeq2Seq/EngRusDrop04U400.h5')"
      ]
    },
    {
      "cell_type": "code",
      "execution_count": null,
      "metadata": {
        "id": "E1e-aGCqFiOL"
      },
      "outputs": [],
      "source": [
        "EngRusTranslator.loadWeights('/content/drive/MyDrive/PostUAI/advancedSeq2Seq/EngRusDrop04U400.h5')"
      ]
    },
    {
      "cell_type": "code",
      "execution_count": null,
      "metadata": {
        "colab": {
          "base_uri": "https://localhost:8080/",
          "height": 35
        },
        "id": "bUMOUDnt-rpv",
        "outputId": "f4970491-6afa-4d36-dee1-e8ff445921dc"
      },
      "outputs": [
        {
          "output_type": "execute_result",
          "data": {
            "text/plain": [
              "'что вы делаете?'"
            ],
            "application/vnd.google.colaboratory.intrinsic+json": {
              "type": "string"
            }
          },
          "metadata": {},
          "execution_count": 40
        }
      ],
      "source": [
        "EngRusTranslator.translate('What are you doing?') #translation example "
      ]
    },
    {
      "cell_type": "code",
      "execution_count": null,
      "metadata": {
        "colab": {
          "base_uri": "https://localhost:8080/",
          "height": 35
        },
        "id": "odfFEpuZl8Jt",
        "outputId": "2ce1c2be-6e2c-4d4b-d0e5-6595f9457b87"
      },
      "outputs": [
        {
          "output_type": "execute_result",
          "data": {
            "text/plain": [
              "'позволь мне мою руку.'"
            ],
            "application/vnd.google.colaboratory.intrinsic+json": {
              "type": "string"
            }
          },
          "metadata": {},
          "execution_count": 38
        }
      ],
      "source": [
        "EngRusTranslator.translate('Hello, my friend.') #translation example "
      ]
    },
    {
      "cell_type": "code",
      "execution_count": null,
      "metadata": {
        "colab": {
          "base_uri": "https://localhost:8080/",
          "height": 35
        },
        "id": "9JZiH-i3mDNN",
        "outputId": "f64dacef-8a0d-4185-f8ee-d0345657ff94"
      },
      "outputs": [
        {
          "output_type": "execute_result",
          "data": {
            "text/plain": [
              "'рада тебя видеть.'"
            ],
            "application/vnd.google.colaboratory.intrinsic+json": {
              "type": "string"
            }
          },
          "metadata": {},
          "execution_count": 39
        }
      ],
      "source": [
        "EngRusTranslator.translate(\"I'm glad to see you.\") #translation example "
      ]
    },
    {
      "cell_type": "code",
      "execution_count": null,
      "metadata": {
        "colab": {
          "base_uri": "https://localhost:8080/",
          "height": 35
        },
        "id": "vjNEeA4RmVsU",
        "outputId": "c81d8001-5901-4763-a3bf-5bc4fe98d1a1"
      },
      "outputs": [
        {
          "output_type": "execute_result",
          "data": {
            "text/plain": [
              "'у меня машина не работу.'"
            ],
            "application/vnd.google.colaboratory.intrinsic+json": {
              "type": "string"
            }
          },
          "metadata": {},
          "execution_count": 40
        }
      ],
      "source": [
        "EngRusTranslator.translate(\"My car does not work.\") #translation example "
      ]
    },
    {
      "cell_type": "code",
      "execution_count": null,
      "metadata": {
        "colab": {
          "base_uri": "https://localhost:8080/",
          "height": 35
        },
        "id": "bFlLFXVznQei",
        "outputId": "80aa7b04-357b-4fb9-e6cb-eef1d3ebfd5e"
      },
      "outputs": [
        {
          "output_type": "execute_result",
          "data": {
            "text/plain": [
              "'я устала.'"
            ],
            "application/vnd.google.colaboratory.intrinsic+json": {
              "type": "string"
            }
          },
          "metadata": {},
          "execution_count": 43
        }
      ],
      "source": [
        "EngRusTranslator.translate(\"I'm tired.\") #translation example "
      ]
    },
    {
      "cell_type": "code",
      "execution_count": null,
      "metadata": {
        "colab": {
          "base_uri": "https://localhost:8080/",
          "height": 35
        },
        "id": "roKcIEyonXc6",
        "outputId": "ec3153c3-c360-4547-a372-6a7928582ef6"
      },
      "outputs": [
        {
          "output_type": "execute_result",
          "data": {
            "text/plain": [
              "'что это вас в своей лестнице.'"
            ],
            "application/vnd.google.colaboratory.intrinsic+json": {
              "type": "string"
            }
          },
          "metadata": {},
          "execution_count": 44
        }
      ],
      "source": [
        "EngRusTranslator.translate(\"What is your name?.\") #translation example "
      ]
    },
    {
      "cell_type": "markdown",
      "metadata": {
        "id": "_XXXNECkCuml"
      },
      "source": [
        "##RUS-ENG Translator"
      ]
    },
    {
      "cell_type": "code",
      "execution_count": null,
      "metadata": {
        "id": "H1y4bF-PmwNR"
      },
      "outputs": [],
      "source": [
        "RusEngTranslator=Translator(maxLenQuestRus,maxLenAnsEng, drop_rate=0.4) #creating the ENG-RUS translator"
      ]
    },
    {
      "cell_type": "code",
      "execution_count": null,
      "metadata": {
        "colab": {
          "base_uri": "https://localhost:8080/"
        },
        "id": "y_lJRz0OC0_E",
        "outputId": "ec63face-bc0c-4afa-eef8-68946943562e"
      },
      "outputs": [
        {
          "output_type": "stream",
          "name": "stdout",
          "text": [
            "Epoch 1/100\n",
            "352/352 [==============================] - 98s 239ms/step - loss: 2.4199 - val_loss: 1.9181\n",
            "Epoch 2/100\n",
            "352/352 [==============================] - 81s 231ms/step - loss: 1.6938 - val_loss: 1.5271\n",
            "Epoch 3/100\n",
            "352/352 [==============================] - 83s 235ms/step - loss: 1.3870 - val_loss: 1.3109\n",
            "Epoch 4/100\n",
            "352/352 [==============================] - 81s 230ms/step - loss: 1.1820 - val_loss: 1.1578\n",
            "Epoch 5/100\n",
            "352/352 [==============================] - 81s 231ms/step - loss: 1.0244 - val_loss: 1.0531\n",
            "Epoch 6/100\n",
            "352/352 [==============================] - 81s 230ms/step - loss: 0.9017 - val_loss: 0.9677\n",
            "Epoch 7/100\n",
            "352/352 [==============================] - 80s 229ms/step - loss: 0.8048 - val_loss: 0.8994\n",
            "Epoch 8/100\n",
            "352/352 [==============================] - 81s 230ms/step - loss: 0.7246 - val_loss: 0.8562\n",
            "Epoch 9/100\n",
            "352/352 [==============================] - 81s 231ms/step - loss: 0.6587 - val_loss: 0.8141\n",
            "Epoch 10/100\n",
            "352/352 [==============================] - 81s 230ms/step - loss: 0.6035 - val_loss: 0.7833\n",
            "Epoch 11/100\n",
            "352/352 [==============================] - 81s 229ms/step - loss: 0.5578 - val_loss: 0.7642\n",
            "Epoch 12/100\n",
            "352/352 [==============================] - 81s 230ms/step - loss: 0.5188 - val_loss: 0.7453\n",
            "Epoch 13/100\n",
            "352/352 [==============================] - 81s 230ms/step - loss: 0.4845 - val_loss: 0.7269\n",
            "Epoch 14/100\n",
            "352/352 [==============================] - 81s 230ms/step - loss: 0.4549 - val_loss: 0.7178\n",
            "Epoch 15/100\n",
            "352/352 [==============================] - 81s 229ms/step - loss: 0.4313 - val_loss: 0.7093\n",
            "Epoch 16/100\n",
            "352/352 [==============================] - 81s 229ms/step - loss: 0.4083 - val_loss: 0.6992\n",
            "Epoch 17/100\n",
            "352/352 [==============================] - 81s 229ms/step - loss: 0.3869 - val_loss: 0.6906\n",
            "Epoch 18/100\n",
            "352/352 [==============================] - 81s 230ms/step - loss: 0.3681 - val_loss: 0.6850\n",
            "Epoch 19/100\n",
            "352/352 [==============================] - 80s 228ms/step - loss: 0.3506 - val_loss: 0.6817\n",
            "Epoch 20/100\n",
            "352/352 [==============================] - 81s 229ms/step - loss: 0.3366 - val_loss: 0.6804\n",
            "Epoch 21/100\n",
            "352/352 [==============================] - 81s 230ms/step - loss: 0.3251 - val_loss: 0.6772\n",
            "Epoch 22/100\n",
            "352/352 [==============================] - 81s 230ms/step - loss: 0.3134 - val_loss: 0.6775\n",
            "Epoch 23/100\n",
            "352/352 [==============================] - 81s 229ms/step - loss: 0.3031 - val_loss: 0.6752\n",
            "Epoch 24/100\n",
            "352/352 [==============================] - 81s 229ms/step - loss: 0.2935 - val_loss: 0.6737\n",
            "Epoch 25/100\n",
            "352/352 [==============================] - 81s 230ms/step - loss: 0.2843 - val_loss: 0.6700\n",
            "Epoch 26/100\n",
            "352/352 [==============================] - 81s 230ms/step - loss: 0.2755 - val_loss: 0.6693\n",
            "Epoch 27/100\n",
            "352/352 [==============================] - 80s 228ms/step - loss: 0.2674 - val_loss: 0.6691\n",
            "Epoch 28/100\n",
            "352/352 [==============================] - 81s 229ms/step - loss: 0.2604 - val_loss: 0.6676\n",
            "Epoch 29/100\n",
            "352/352 [==============================] - 81s 230ms/step - loss: 0.2543 - val_loss: 0.6680\n",
            "Epoch 30/100\n",
            "352/352 [==============================] - 81s 230ms/step - loss: 0.2474 - val_loss: 0.6681\n",
            "Epoch 31/100\n",
            "352/352 [==============================] - 80s 229ms/step - loss: 0.2411 - val_loss: 0.6674\n",
            "Epoch 32/100\n",
            "352/352 [==============================] - 81s 230ms/step - loss: 0.2359 - val_loss: 0.6675\n",
            "Epoch 33/100\n",
            "352/352 [==============================] - 81s 230ms/step - loss: 0.2306 - val_loss: 0.6671\n",
            "Epoch 34/100\n",
            "352/352 [==============================] - 81s 230ms/step - loss: 0.2252 - val_loss: 0.6659\n",
            "Epoch 35/100\n",
            "352/352 [==============================] - 80s 229ms/step - loss: 0.2202 - val_loss: 0.6657\n",
            "Epoch 36/100\n",
            "352/352 [==============================] - 81s 230ms/step - loss: 0.2156 - val_loss: 0.6641\n",
            "Epoch 37/100\n",
            "352/352 [==============================] - 81s 230ms/step - loss: 0.2110 - val_loss: 0.6643\n",
            "Epoch 38/100\n",
            "352/352 [==============================] - 81s 230ms/step - loss: 0.2065 - val_loss: 0.6645\n",
            "Epoch 39/100\n",
            "352/352 [==============================] - 80s 229ms/step - loss: 0.1995 - val_loss: 0.6627\n",
            "Epoch 40/100\n",
            "352/352 [==============================] - 81s 229ms/step - loss: 0.1952 - val_loss: 0.6622\n",
            "Epoch 41/100\n",
            "352/352 [==============================] - 81s 230ms/step - loss: 0.1926 - val_loss: 0.6638\n",
            "Epoch 42/100\n",
            "352/352 [==============================] - 81s 229ms/step - loss: 0.1893 - val_loss: 0.6654\n",
            "Epoch 43/100\n",
            "352/352 [==============================] - 80s 228ms/step - loss: 0.1863 - val_loss: 0.6625\n",
            "Epoch 44/100\n",
            "352/352 [==============================] - 81s 229ms/step - loss: 0.1837 - val_loss: 0.6664\n",
            "Epoch 45/100\n",
            "352/352 [==============================] - 81s 230ms/step - loss: 0.1805 - val_loss: 0.6663\n",
            "Epoch 46/100\n",
            "352/352 [==============================] - 81s 229ms/step - loss: 0.1784 - val_loss: 0.6677\n",
            "Epoch 47/100\n",
            "352/352 [==============================] - 80s 228ms/step - loss: 0.1760 - val_loss: 0.6684\n",
            "Epoch 48/100\n",
            "352/352 [==============================] - 81s 229ms/step - loss: 0.1740 - val_loss: 0.6669\n",
            "Epoch 49/100\n",
            "352/352 [==============================] - 81s 229ms/step - loss: 0.1722 - val_loss: 0.6677\n",
            "Epoch 50/100\n",
            "352/352 [==============================] - 81s 230ms/step - loss: 0.1700 - val_loss: 0.6662\n",
            "Epoch 51/100\n",
            "352/352 [==============================] - 80s 228ms/step - loss: 0.1685 - val_loss: 0.6656\n",
            "Epoch 52/100\n",
            "352/352 [==============================] - 81s 229ms/step - loss: 0.1660 - val_loss: 0.6645\n",
            "Epoch 53/100\n",
            "352/352 [==============================] - 81s 229ms/step - loss: 0.1641 - val_loss: 0.6647\n",
            "Epoch 54/100\n",
            "352/352 [==============================] - 81s 230ms/step - loss: 0.1624 - val_loss: 0.6680\n",
            "Epoch 55/100\n",
            "352/352 [==============================] - 81s 229ms/step - loss: 0.1612 - val_loss: 0.6687\n",
            "Epoch 56/100\n",
            "352/352 [==============================] - 81s 230ms/step - loss: 0.1592 - val_loss: 0.6655\n",
            "Epoch 57/100\n",
            "352/352 [==============================] - 81s 230ms/step - loss: 0.1571 - val_loss: 0.6676\n",
            "Epoch 58/100\n",
            "352/352 [==============================] - 81s 230ms/step - loss: 0.1552 - val_loss: 0.6674\n",
            "Epoch 59/100\n",
            "352/352 [==============================] - 80s 228ms/step - loss: 0.1531 - val_loss: 0.6647\n",
            "Epoch 60/100\n",
            "352/352 [==============================] - 81s 229ms/step - loss: 0.1508 - val_loss: 0.6656\n",
            "Epoch 61/100\n",
            "352/352 [==============================] - 81s 229ms/step - loss: 0.1494 - val_loss: 0.6685\n",
            "Epoch 62/100\n",
            "352/352 [==============================] - 81s 230ms/step - loss: 0.1474 - val_loss: 0.6641\n",
            "Epoch 63/100\n",
            "352/352 [==============================] - 80s 228ms/step - loss: 0.1459 - val_loss: 0.6634\n",
            "Epoch 64/100\n",
            "352/352 [==============================] - 80s 229ms/step - loss: 0.1438 - val_loss: 0.6644\n",
            "Epoch 65/100\n",
            "352/352 [==============================] - 81s 229ms/step - loss: 0.1425 - val_loss: 0.6654\n",
            "Epoch 66/100\n",
            "352/352 [==============================] - 81s 229ms/step - loss: 0.1406 - val_loss: 0.6643\n",
            "Epoch 67/100\n",
            "352/352 [==============================] - 80s 228ms/step - loss: 0.1388 - val_loss: 0.6641\n",
            "Epoch 68/100\n",
            "352/352 [==============================] - 81s 230ms/step - loss: 0.1376 - val_loss: 0.6632\n",
            "Epoch 69/100\n",
            "352/352 [==============================] - 81s 231ms/step - loss: 0.1358 - val_loss: 0.6650\n",
            "Epoch 70/100\n",
            "352/352 [==============================] - 81s 231ms/step - loss: 0.1341 - val_loss: 0.6652\n",
            "Epoch 71/100\n",
            "352/352 [==============================] - 81s 229ms/step - loss: 0.1328 - val_loss: 0.6669\n",
            "Epoch 72/100\n",
            "352/352 [==============================] - 81s 231ms/step - loss: 0.1312 - val_loss: 0.6673\n",
            "Epoch 73/100\n",
            "352/352 [==============================] - 81s 231ms/step - loss: 0.1301 - val_loss: 0.6670\n",
            "Epoch 74/100\n",
            "352/352 [==============================] - 81s 231ms/step - loss: 0.1290 - val_loss: 0.6665\n",
            "Epoch 75/100\n",
            "352/352 [==============================] - 81s 230ms/step - loss: 0.1277 - val_loss: 0.6666\n",
            "Epoch 76/100\n",
            "352/352 [==============================] - 82s 232ms/step - loss: 0.1261 - val_loss: 0.6677\n",
            "Epoch 77/100\n",
            "352/352 [==============================] - 82s 232ms/step - loss: 0.1250 - val_loss: 0.6661\n",
            "Epoch 78/100\n",
            "352/352 [==============================] - 82s 232ms/step - loss: 0.1239 - val_loss: 0.6674\n",
            "Epoch 79/100\n",
            "352/352 [==============================] - 81s 231ms/step - loss: 0.1228 - val_loss: 0.6710\n",
            "Epoch 80/100\n",
            "352/352 [==============================] - 82s 232ms/step - loss: 0.1219 - val_loss: 0.6703\n",
            "Epoch 81/100\n",
            "352/352 [==============================] - 82s 232ms/step - loss: 0.1205 - val_loss: 0.6704\n",
            "Epoch 82/100\n",
            "352/352 [==============================] - 82s 232ms/step - loss: 0.1199 - val_loss: 0.6712\n",
            "Epoch 83/100\n",
            "352/352 [==============================] - 81s 231ms/step - loss: 0.1190 - val_loss: 0.6707\n",
            "Epoch 84/100\n",
            "352/352 [==============================] - 82s 232ms/step - loss: 0.1180 - val_loss: 0.6718\n",
            "Epoch 85/100\n",
            "352/352 [==============================] - 82s 232ms/step - loss: 0.1171 - val_loss: 0.6703\n",
            "Epoch 86/100\n",
            "352/352 [==============================] - 82s 232ms/step - loss: 0.1165 - val_loss: 0.6732\n",
            "Epoch 87/100\n",
            "352/352 [==============================] - 81s 231ms/step - loss: 0.1156 - val_loss: 0.6732\n",
            "Epoch 88/100\n",
            "352/352 [==============================] - 81s 231ms/step - loss: 0.1152 - val_loss: 0.6769\n",
            "Epoch 89/100\n",
            "352/352 [==============================] - 82s 232ms/step - loss: 0.1145 - val_loss: 0.6739\n",
            "Epoch 90/100\n",
            "352/352 [==============================] - 82s 232ms/step - loss: 0.1134 - val_loss: 0.6766\n",
            "Epoch 91/100\n",
            "352/352 [==============================] - 81s 231ms/step - loss: 0.1136 - val_loss: 0.6763\n",
            "Epoch 92/100\n",
            "352/352 [==============================] - 81s 231ms/step - loss: 0.1130 - val_loss: 0.6756\n",
            "Epoch 93/100\n",
            "352/352 [==============================] - 82s 232ms/step - loss: 0.1124 - val_loss: 0.6788\n",
            "Epoch 94/100\n",
            "352/352 [==============================] - 82s 232ms/step - loss: 0.1125 - val_loss: 0.6795\n",
            "Epoch 95/100\n",
            "352/352 [==============================] - 81s 231ms/step - loss: 0.1124 - val_loss: 0.6783\n",
            "Epoch 96/100\n",
            "352/352 [==============================] - 82s 232ms/step - loss: 0.1123 - val_loss: 0.6829\n",
            "Epoch 97/100\n",
            "352/352 [==============================] - 81s 231ms/step - loss: 0.1116 - val_loss: 0.6806\n",
            "Epoch 98/100\n",
            "352/352 [==============================] - 81s 231ms/step - loss: 0.1114 - val_loss: 0.6803\n",
            "Epoch 99/100\n",
            "352/352 [==============================] - 81s 230ms/step - loss: 0.1112 - val_loss: 0.6817\n",
            "Epoch 100/100\n",
            "352/352 [==============================] - 83s 237ms/step - loss: 0.1112 - val_loss: 0.6805\n"
          ]
        }
      ],
      "source": [
        "\n",
        "#fitting the model\n",
        "history=RusEngTranslator.train([encRusInput,decEngInput],decEngOutput,epochs=100)"
      ]
    },
    {
      "cell_type": "code",
      "execution_count": null,
      "metadata": {
        "colab": {
          "base_uri": "https://localhost:8080/",
          "height": 295
        },
        "id": "AkSUNMy0FpYI",
        "outputId": "d70579a4-6180-40bd-b6b6-5848ecd5bee0"
      },
      "outputs": [
        {
          "output_type": "display_data",
          "data": {
            "text/plain": [
              "<Figure size 432x288 with 1 Axes>"
            ],
            "image/png": "[encoded data removed]"
          },
          "metadata": {
            "needs_background": "light"
          }
        }
      ],
      "source": [
        "#plot the chart of loss-function\n",
        "plt.plot(history['loss'],label='train')\n",
        "plt.plot(history['val_loss'],label='val')\n",
        "plt.xlabel('Epochs')\n",
        "plt.ylabel('Loss')\n",
        "plt.title('ENG-RUS Translator Training')\n",
        "plt.legend()\n",
        "plt.show()"
      ]
    },
    {
      "cell_type": "code",
      "execution_count": null,
      "metadata": {
        "id": "f_4QqsWZFwmj"
      },
      "outputs": [],
      "source": [
        "RusEngTranslator.makeInferenceModel() #creating the inference model"
      ]
    },
    {
      "cell_type": "code",
      "execution_count": null,
      "metadata": {
        "id": "fb-RJ2ILI68R"
      },
      "outputs": [],
      "source": [
        "RusEngTranslator.saveWeights('/content/drive/MyDrive/PostUAI/advancedSeq2Seq/RusEngDrop04U400.h5.h5')"
      ]
    },
    {
      "cell_type": "code",
      "execution_count": null,
      "metadata": {
        "id": "UII04cpam0mI"
      },
      "outputs": [],
      "source": [
        "RusEngTranslator.loadWeights('/content/drive/MyDrive/PostUAI/advancedSeq2Seq/RusEngDrop04U400.h5.h5')"
      ]
    },
    {
      "cell_type": "code",
      "execution_count": null,
      "metadata": {
        "colab": {
          "base_uri": "https://localhost:8080/",
          "height": 35
        },
        "id": "Jj7J3rlGF5gR",
        "outputId": "80d2a542-c28f-47d8-faf5-5d1360bb4360"
      },
      "outputs": [
        {
          "output_type": "execute_result",
          "data": {
            "text/plain": [
              "'how are you?'"
            ],
            "application/vnd.google.colaboratory.intrinsic+json": {
              "type": "string"
            }
          },
          "metadata": {},
          "execution_count": 50
        }
      ],
      "source": [
        "RusEngTranslator.translate('Как твои дела?') #translation example "
      ]
    },
    {
      "cell_type": "code",
      "execution_count": null,
      "metadata": {
        "colab": {
          "base_uri": "https://localhost:8080/",
          "height": 35
        },
        "id": "eWeOk-9Ym7-a",
        "outputId": "9b7ae5b6-8b4c-4523-addb-56ac6c8dc667"
      },
      "outputs": [
        {
          "output_type": "execute_result",
          "data": {
            "text/plain": [
              "\"i'm glad to see you.\""
            ],
            "application/vnd.google.colaboratory.intrinsic+json": {
              "type": "string"
            }
          },
          "metadata": {},
          "execution_count": 30
        }
      ],
      "source": [
        "RusEngTranslator.translate('Я рад видеть тебя.') #translation example "
      ]
    },
    {
      "cell_type": "code",
      "execution_count": null,
      "metadata": {
        "colab": {
          "base_uri": "https://localhost:8080/",
          "height": 35
        },
        "id": "ln4_K4BnnDn_",
        "outputId": "e8b35977-4f94-4271-fc80-96eb9d32bb2d"
      },
      "outputs": [
        {
          "output_type": "execute_result",
          "data": {
            "text/plain": [
              "\"my car isn't working.\""
            ],
            "application/vnd.google.colaboratory.intrinsic+json": {
              "type": "string"
            }
          },
          "metadata": {},
          "execution_count": 31
        }
      ],
      "source": [
        "RusEngTranslator.translate('Моя машина не работает.') #translation example "
      ]
    },
    {
      "cell_type": "code",
      "execution_count": null,
      "metadata": {
        "colab": {
          "base_uri": "https://localhost:8080/",
          "height": 35
        },
        "id": "39sXt-I7nK95",
        "outputId": "de266d4f-180c-4e36-f6f8-0b325f15219f"
      },
      "outputs": [
        {
          "output_type": "execute_result",
          "data": {
            "text/plain": [
              "'i got tired.'"
            ],
            "application/vnd.google.colaboratory.intrinsic+json": {
              "type": "string"
            }
          },
          "metadata": {},
          "execution_count": 34
        }
      ],
      "source": [
        "RusEngTranslator.translate('Я устал.') #translation example "
      ]
    },
    {
      "cell_type": "code",
      "execution_count": null,
      "metadata": {
        "colab": {
          "base_uri": "https://localhost:8080/",
          "height": 35
        },
        "id": "x7jHm4Z2nd60",
        "outputId": "f5dc507d-0f21-4448-89e6-0d3403e72dc7"
      },
      "outputs": [
        {
          "output_type": "execute_result",
          "data": {
            "text/plain": [
              "'what was your name?'"
            ],
            "application/vnd.google.colaboratory.intrinsic+json": {
              "type": "string"
            }
          },
          "metadata": {},
          "execution_count": 33
        }
      ],
      "source": [
        "RusEngTranslator.translate('Как тебя зовут?') #translation example "
      ]
    },
    {
      "cell_type": "markdown",
      "metadata": {
        "id": "S1IsG-ZkGBuU"
      },
      "source": [
        "#Double Translation"
      ]
    },
    {
      "cell_type": "markdown",
      "metadata": {
        "id": "zJLY8Xj-orIl"
      },
      "source": [
        "##ENG-RUS -> RUS-ENG"
      ]
    },
    {
      "cell_type": "code",
      "execution_count": null,
      "metadata": {
        "id": "qdFiYqxkGNqH"
      },
      "outputs": [],
      "source": [
        "def EngRus_RusEng(eng_init):\n",
        "  rus=EngRusTranslator.translate(eng_init)\n",
        "  eng=RusEngTranslator.translate(rus)\n",
        "\n",
        "  print('Original english sentence: ', eng_init)\n",
        "  print('Translated russian sentence: ', rus)\n",
        "  print('Double translated english sentence: ', eng)"
      ]
    },
    {
      "cell_type": "code",
      "execution_count": null,
      "metadata": {
        "colab": {
          "base_uri": "https://localhost:8080/"
        },
        "id": "gK8GpGRih0i2",
        "outputId": "b9daab89-44dc-4856-d309-d06233d091c8"
      },
      "outputs": [
        {
          "output_type": "stream",
          "name": "stdout",
          "text": [
            "Original english sentence:  How much is it?\n",
            "Translated russian sentence:  сколько это стоит?\n",
            "Double translated english sentence:  how much is it?\n"
          ]
        }
      ],
      "source": [
        "EngRus_RusEng(\"How much is it?\")"
      ]
    },
    {
      "cell_type": "code",
      "execution_count": null,
      "metadata": {
        "colab": {
          "base_uri": "https://localhost:8080/"
        },
        "id": "PihAfxTIoNWd",
        "outputId": "f2f3f653-40a8-4385-fd98-94328ebb206b"
      },
      "outputs": [
        {
          "output_type": "stream",
          "name": "stdout",
          "text": [
            "Original english sentence:  Do you speak English?\n",
            "Translated russian sentence:  вы говорите по тебе понравился.\n",
            "Double translated english sentence:  you really missed you.\n"
          ]
        }
      ],
      "source": [
        "EngRus_RusEng(\"Do you speak English?\")"
      ]
    },
    {
      "cell_type": "code",
      "execution_count": null,
      "metadata": {
        "colab": {
          "base_uri": "https://localhost:8080/"
        },
        "id": "msAHizgAoXsM",
        "outputId": "037cef1e-4e06-4c23-a73c-f34e7531d296"
      },
      "outputs": [
        {
          "output_type": "stream",
          "name": "stdout",
          "text": [
            "Original english sentence:  I'm tired.\n",
            "Translated russian sentence:  я устала.\n",
            "Double translated english sentence:  i'm tired.\n"
          ]
        }
      ],
      "source": [
        "EngRus_RusEng(\"I'm tired.\")"
      ]
    },
    {
      "cell_type": "code",
      "execution_count": null,
      "metadata": {
        "colab": {
          "base_uri": "https://localhost:8080/"
        },
        "id": "vGrB-GY-oepe",
        "outputId": "3a42d523-a7f2-4a6e-f6a7-767815835500"
      },
      "outputs": [
        {
          "output_type": "stream",
          "name": "stdout",
          "text": [
            "Original english sentence:  It's rainy today.\n",
            "Translated russian sentence:  сегодня нет там.\n",
            "Double translated english sentence:  it's not there.\n"
          ]
        }
      ],
      "source": [
        "EngRus_RusEng(\"It's rainy today.\")"
      ]
    },
    {
      "cell_type": "markdown",
      "metadata": {
        "id": "n2c5MdpRoswa"
      },
      "source": [
        "##RUS-ENG -> ENG-RUS "
      ]
    },
    {
      "cell_type": "code",
      "execution_count": null,
      "metadata": {
        "id": "3vZPVp7LoxN7"
      },
      "outputs": [],
      "source": [
        "def RusEng_EngRus(rus_init):\n",
        "  eng=RusEngTranslator.translate(rus_init)\n",
        "  rus=EngRusTranslator.translate(eng)\n",
        "\n",
        "  print('Original russian sentence: ', rus_init)\n",
        "  print('Translated english sentence: ', eng)\n",
        "  print('Double translated russian sentence: ', rus)"
      ]
    },
    {
      "cell_type": "code",
      "execution_count": null,
      "metadata": {
        "colab": {
          "base_uri": "https://localhost:8080/"
        },
        "id": "SfN3zGftpGJE",
        "outputId": "6fe56a4f-cb02-4520-a6df-612a15e3998e"
      },
      "outputs": [
        {
          "output_type": "stream",
          "name": "stdout",
          "text": [
            "Original russian sentence:  Лондон - это столица Великобритании.\n",
            "Translated english sentence:  this is it?\n",
            "Double translated russian sentence:  вот и всё.\n"
          ]
        }
      ],
      "source": [
        "RusEng_EngRus(\"Лондон - это столица Великобритании.\")"
      ]
    },
    {
      "cell_type": "code",
      "execution_count": null,
      "metadata": {
        "colab": {
          "base_uri": "https://localhost:8080/"
        },
        "id": "VbL5I03XpXKs",
        "outputId": "f1565649-6857-483a-dceb-069c6a735a18"
      },
      "outputs": [
        {
          "output_type": "stream",
          "name": "stdout",
          "text": [
            "Original russian sentence:  Это все на сегодня.\n",
            "Translated english sentence:  that's all for today.\n",
            "Double translated russian sentence:  на сегодня всё.\n"
          ]
        }
      ],
      "source": [
        "RusEng_EngRus(\"Это все на сегодня.\")"
      ]
    },
    {
      "cell_type": "code",
      "execution_count": null,
      "metadata": {
        "colab": {
          "base_uri": "https://localhost:8080/"
        },
        "id": "xbsIALxBpcfv",
        "outputId": "23418b7a-90bf-483c-8e48-c5e087a4032d"
      },
      "outputs": [
        {
          "output_type": "stream",
          "name": "stdout",
          "text": [
            "Original russian sentence:  Сколько вам лет?\n",
            "Translated english sentence:  how old are you?\n",
            "Double translated russian sentence:  сколько вам лет?\n"
          ]
        }
      ],
      "source": [
        "RusEng_EngRus(\"Сколько вам лет?\")"
      ]
    },
    {
      "cell_type": "code",
      "execution_count": null,
      "metadata": {
        "colab": {
          "base_uri": "https://localhost:8080/"
        },
        "id": "s9m6c0mRpju8",
        "outputId": "67ef560e-535a-4756-a322-a5229c3c75f5"
      },
      "outputs": [
        {
          "output_type": "stream",
          "name": "stdout",
          "text": [
            "Original russian sentence:  Вам помочь?\n",
            "Translated english sentence:  shall i help you?\n",
            "Double translated russian sentence:  тебе помочь?\n"
          ]
        }
      ],
      "source": [
        "RusEng_EngRus(\"Вам помочь?\")"
      ]
    },
    {
      "cell_type": "code",
      "execution_count": null,
      "metadata": {
        "colab": {
          "base_uri": "https://localhost:8080/"
        },
        "id": "g48Of-9ypp9i",
        "outputId": "4efb6494-7fd3-4c73-e90f-dd1a2a147e5e"
      },
      "outputs": [
        {
          "output_type": "stream",
          "name": "stdout",
          "text": [
            "Original russian sentence:  Как пройти в библиотеку?\n",
            "Translated english sentence:  how was paid in a lot.\n",
            "Double translated russian sentence:  как прошла в школе была позвоните мне.\n"
          ]
        }
      ],
      "source": [
        "RusEng_EngRus(\"Как пройти в библиотеку?\")"
      ]
    }
  ],
  "metadata": {
    "accelerator": "GPU",
    "colab": {
      "collapsed_sections": [
        "6RMisap9Jqxj",
        "oaW8i4tZQoOS"
      ],
      "name": "Seq2Seq Double Translator.ipynb",
      "provenance": []
    },
    "kernelspec": {
      "display_name": "Python 3",
      "name": "python3"
    },
    "language_info": {
      "name": "python"
    }
  },
  "nbformat": 4,
  "nbformat_minor": 0
}